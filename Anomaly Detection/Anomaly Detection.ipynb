{
 "cells": [
  {
   "cell_type": "markdown",
   "id": "1125eae9",
   "metadata": {},
   "source": [
    "#  Anomaly Detection"
   ]
  },
  {
   "cell_type": "code",
   "execution_count": 1,
   "id": "f19b68a1",
   "metadata": {},
   "outputs": [],
   "source": [
    "# Imports\n",
    "%matplotlib inline\n",
    "import pandas as pd\n",
    "import numpy as np\n",
    "import matplotlib.pyplot as plt\n",
    "import seaborn as sns\n",
    "from scipy.stats import norm\n",
    "from sklearn.preprocessing import StandardScaler\n",
    "from scipy import stats\n",
    "import warnings"
   ]
  },
  {
   "cell_type": "markdown",
   "id": "f5162b8e",
   "metadata": {},
   "source": [
    "### create data frame "
   ]
  },
  {
   "cell_type": "code",
   "execution_count": 2,
   "id": "e43bd86b",
   "metadata": {},
   "outputs": [],
   "source": [
    "df = pd.read_csv(\"conn250k.csv\",names=[\"record ID\", \"duration\", \"src_bytes\", \"dst_bytes\"], header=None)"
   ]
  },
  {
   "cell_type": "code",
   "execution_count": 3,
   "id": "fe1e70ac",
   "metadata": {},
   "outputs": [
    {
     "data": {
      "text/html": [
       "<div>\n",
       "<style scoped>\n",
       "    .dataframe tbody tr th:only-of-type {\n",
       "        vertical-align: middle;\n",
       "    }\n",
       "\n",
       "    .dataframe tbody tr th {\n",
       "        vertical-align: top;\n",
       "    }\n",
       "\n",
       "    .dataframe thead th {\n",
       "        text-align: right;\n",
       "    }\n",
       "</style>\n",
       "<table border=\"1\" class=\"dataframe\">\n",
       "  <thead>\n",
       "    <tr style=\"text-align: right;\">\n",
       "      <th></th>\n",
       "      <th>record ID</th>\n",
       "      <th>duration</th>\n",
       "      <th>src_bytes</th>\n",
       "      <th>dst_bytes</th>\n",
       "    </tr>\n",
       "  </thead>\n",
       "  <tbody>\n",
       "    <tr>\n",
       "      <th>0</th>\n",
       "      <td>1</td>\n",
       "      <td>0</td>\n",
       "      <td>236</td>\n",
       "      <td>1228</td>\n",
       "    </tr>\n",
       "    <tr>\n",
       "      <th>1</th>\n",
       "      <td>2</td>\n",
       "      <td>0</td>\n",
       "      <td>239</td>\n",
       "      <td>486</td>\n",
       "    </tr>\n",
       "    <tr>\n",
       "      <th>2</th>\n",
       "      <td>3</td>\n",
       "      <td>0</td>\n",
       "      <td>234</td>\n",
       "      <td>1364</td>\n",
       "    </tr>\n",
       "    <tr>\n",
       "      <th>3</th>\n",
       "      <td>4</td>\n",
       "      <td>0</td>\n",
       "      <td>239</td>\n",
       "      <td>1295</td>\n",
       "    </tr>\n",
       "    <tr>\n",
       "      <th>4</th>\n",
       "      <td>5</td>\n",
       "      <td>0</td>\n",
       "      <td>181</td>\n",
       "      <td>5450</td>\n",
       "    </tr>\n",
       "    <tr>\n",
       "      <th>...</th>\n",
       "      <td>...</td>\n",
       "      <td>...</td>\n",
       "      <td>...</td>\n",
       "      <td>...</td>\n",
       "    </tr>\n",
       "    <tr>\n",
       "      <th>256665</th>\n",
       "      <td>256666</td>\n",
       "      <td>0</td>\n",
       "      <td>306</td>\n",
       "      <td>236</td>\n",
       "    </tr>\n",
       "    <tr>\n",
       "      <th>256666</th>\n",
       "      <td>256667</td>\n",
       "      <td>0</td>\n",
       "      <td>288</td>\n",
       "      <td>4017</td>\n",
       "    </tr>\n",
       "    <tr>\n",
       "      <th>256667</th>\n",
       "      <td>256668</td>\n",
       "      <td>0</td>\n",
       "      <td>289</td>\n",
       "      <td>1096</td>\n",
       "    </tr>\n",
       "    <tr>\n",
       "      <th>256668</th>\n",
       "      <td>256669</td>\n",
       "      <td>0</td>\n",
       "      <td>198</td>\n",
       "      <td>2169</td>\n",
       "    </tr>\n",
       "    <tr>\n",
       "      <th>256669</th>\n",
       "      <td>256670</td>\n",
       "      <td>0</td>\n",
       "      <td>212</td>\n",
       "      <td>2288</td>\n",
       "    </tr>\n",
       "  </tbody>\n",
       "</table>\n",
       "<p>256670 rows × 4 columns</p>\n",
       "</div>"
      ],
      "text/plain": [
       "        record ID  duration  src_bytes  dst_bytes\n",
       "0               1         0        236       1228\n",
       "1               2         0        239        486\n",
       "2               3         0        234       1364\n",
       "3               4         0        239       1295\n",
       "4               5         0        181       5450\n",
       "...           ...       ...        ...        ...\n",
       "256665     256666         0        306        236\n",
       "256666     256667         0        288       4017\n",
       "256667     256668         0        289       1096\n",
       "256668     256669         0        198       2169\n",
       "256669     256670         0        212       2288\n",
       "\n",
       "[256670 rows x 4 columns]"
      ]
     },
     "execution_count": 3,
     "metadata": {},
     "output_type": "execute_result"
    }
   ],
   "source": [
    "df"
   ]
  },
  {
   "cell_type": "markdown",
   "id": "739c2d80",
   "metadata": {},
   "source": [
    "### test how the 'src_bytes' data look"
   ]
  },
  {
   "cell_type": "code",
   "execution_count": 9,
   "id": "eae956c9",
   "metadata": {},
   "outputs": [
    {
     "data": {
      "image/png": "[encoded data removed]",
      "text/plain": [
       "<Figure size 432x288 with 1 Axes>"
      ]
     },
     "metadata": {
      "needs_background": "light"
     },
     "output_type": "display_data"
    }
   ],
   "source": [
    "# we can find something interesting in the 'src_bytes'\n",
    "var = 'record ID'\n",
    "data = pd.concat([df['src_bytes'], df[var]], axis=1)\n",
    "data.plot.scatter(x=var, y='src_bytes', ylim=(0,60000)); # do not `assume here any thing this is just examples"
   ]
  },
  {
   "cell_type": "code",
   "execution_count": 4,
   "id": "4610161b",
   "metadata": {},
   "outputs": [
    {
     "data": {
      "text/html": [
       "<div>\n",
       "<style scoped>\n",
       "    .dataframe tbody tr th:only-of-type {\n",
       "        vertical-align: middle;\n",
       "    }\n",
       "\n",
       "    .dataframe tbody tr th {\n",
       "        vertical-align: top;\n",
       "    }\n",
       "\n",
       "    .dataframe thead th {\n",
       "        text-align: right;\n",
       "    }\n",
       "</style>\n",
       "<table border=\"1\" class=\"dataframe\">\n",
       "  <thead>\n",
       "    <tr style=\"text-align: right;\">\n",
       "      <th></th>\n",
       "      <th>record ID</th>\n",
       "      <th>duration</th>\n",
       "      <th>src_bytes</th>\n",
       "      <th>dst_bytes</th>\n",
       "    </tr>\n",
       "  </thead>\n",
       "  <tbody>\n",
       "    <tr>\n",
       "      <th>140814</th>\n",
       "      <td>140815.0</td>\n",
       "      <td>0.0</td>\n",
       "      <td>54540.0</td>\n",
       "      <td>8314.0</td>\n",
       "    </tr>\n",
       "    <tr>\n",
       "      <th>140815</th>\n",
       "      <td>140816.0</td>\n",
       "      <td>0.0</td>\n",
       "      <td>54540.0</td>\n",
       "      <td>8314.0</td>\n",
       "    </tr>\n",
       "    <tr>\n",
       "      <th>140816</th>\n",
       "      <td>140817.0</td>\n",
       "      <td>0.0</td>\n",
       "      <td>54540.0</td>\n",
       "      <td>8314.0</td>\n",
       "    </tr>\n",
       "    <tr>\n",
       "      <th>140817</th>\n",
       "      <td>140818.0</td>\n",
       "      <td>0.0</td>\n",
       "      <td>54540.0</td>\n",
       "      <td>8314.0</td>\n",
       "    </tr>\n",
       "    <tr>\n",
       "      <th>140818</th>\n",
       "      <td>140819.0</td>\n",
       "      <td>0.0</td>\n",
       "      <td>54540.0</td>\n",
       "      <td>8314.0</td>\n",
       "    </tr>\n",
       "    <tr>\n",
       "      <th>...</th>\n",
       "      <td>...</td>\n",
       "      <td>...</td>\n",
       "      <td>...</td>\n",
       "      <td>...</td>\n",
       "    </tr>\n",
       "    <tr>\n",
       "      <th>232764</th>\n",
       "      <td>232765.0</td>\n",
       "      <td>0.0</td>\n",
       "      <td>54540.0</td>\n",
       "      <td>8314.0</td>\n",
       "    </tr>\n",
       "    <tr>\n",
       "      <th>232765</th>\n",
       "      <td>232766.0</td>\n",
       "      <td>0.0</td>\n",
       "      <td>54540.0</td>\n",
       "      <td>8314.0</td>\n",
       "    </tr>\n",
       "    <tr>\n",
       "      <th>232766</th>\n",
       "      <td>232767.0</td>\n",
       "      <td>0.0</td>\n",
       "      <td>54540.0</td>\n",
       "      <td>8314.0</td>\n",
       "    </tr>\n",
       "    <tr>\n",
       "      <th>232767</th>\n",
       "      <td>232768.0</td>\n",
       "      <td>0.0</td>\n",
       "      <td>54540.0</td>\n",
       "      <td>8314.0</td>\n",
       "    </tr>\n",
       "    <tr>\n",
       "      <th>232768</th>\n",
       "      <td>232769.0</td>\n",
       "      <td>0.0</td>\n",
       "      <td>54540.0</td>\n",
       "      <td>8314.0</td>\n",
       "    </tr>\n",
       "  </tbody>\n",
       "</table>\n",
       "<p>1015 rows × 4 columns</p>\n",
       "</div>"
      ],
      "text/plain": [
       "        record ID  duration  src_bytes  dst_bytes\n",
       "140814   140815.0       0.0    54540.0     8314.0\n",
       "140815   140816.0       0.0    54540.0     8314.0\n",
       "140816   140817.0       0.0    54540.0     8314.0\n",
       "140817   140818.0       0.0    54540.0     8314.0\n",
       "140818   140819.0       0.0    54540.0     8314.0\n",
       "...           ...       ...        ...        ...\n",
       "232764   232765.0       0.0    54540.0     8314.0\n",
       "232765   232766.0       0.0    54540.0     8314.0\n",
       "232766   232767.0       0.0    54540.0     8314.0\n",
       "232767   232768.0       0.0    54540.0     8314.0\n",
       "232768   232769.0       0.0    54540.0     8314.0\n",
       "\n",
       "[1015 rows x 4 columns]"
      ]
     },
     "execution_count": 4,
     "metadata": {},
     "output_type": "execute_result"
    }
   ],
   "source": [
    "df.where(df['src_bytes'] > 20000).dropna()"
   ]
  },
  {
   "cell_type": "markdown",
   "id": "ead8f901",
   "metadata": {},
   "source": [
    "### test how the 'dst_bytes' data look "
   ]
  },
  {
   "cell_type": "code",
   "execution_count": 13,
   "id": "699905a7",
   "metadata": {},
   "outputs": [
    {
     "data": {
      "image/png": "[encoded data removed]",
      "text/plain": [
       "<Figure size 432x288 with 1 Axes>"
      ]
     },
     "metadata": {
      "needs_background": "light"
     },
     "output_type": "display_data"
    }
   ],
   "source": [
    "# we can't learn nothing from 'src_bytes'\n",
    "var = 'record ID'\n",
    "data = pd.concat([df['dst_bytes'], df[var]], axis=1)\n",
    "data.plot.scatter(x=var, y='dst_bytes', ylim=(0,200000)); # do not `assume here any thing this is just examples"
   ]
  },
  {
   "cell_type": "code",
   "execution_count": null,
   "id": "2d7bb5e8",
   "metadata": {},
   "outputs": [],
   "source": []
  }
 ],
 "metadata": {
  "kernelspec": {
   "display_name": "Python 3",
   "language": "python",
   "name": "python3"
  },
  "language_info": {
   "codemirror_mode": {
    "name": "ipython",
    "version": 3
   },
   "file_extension": ".py",
   "mimetype": "text/x-python",
   "name": "python",
   "nbconvert_exporter": "python",
   "pygments_lexer": "ipython3",
   "version": "3.8.3"
  }
 },
 "nbformat": 4,
 "nbformat_minor": 5
}
