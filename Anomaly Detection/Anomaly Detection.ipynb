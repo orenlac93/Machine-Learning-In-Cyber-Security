{
 "cells": [
  {
   "cell_type": "markdown",
   "id": "d6c38d40",
   "metadata": {},
   "source": [
    "# Anomaly detection\n"
   ]
  },
  {
   "cell_type": "code",
   "execution_count": 76,
   "id": "f19b68a1",
   "metadata": {},
   "outputs": [],
   "source": [
    "# Imports\n",
    "%matplotlib inline\n",
    "import pandas as pd\n",
    "import numpy as np\n",
    "import matplotlib.pyplot as plt\n",
    "import seaborn as sns\n",
    "sns.set()\n",
    "from scipy.stats import norm\n",
    "from sklearn.preprocessing import StandardScaler\n",
    "from scipy import stats\n",
    "import warnings"
   ]
  },
  {
   "cell_type": "markdown",
   "id": "f5162b8e",
   "metadata": {},
   "source": [
    "### create data frame "
   ]
  },
  {
   "cell_type": "code",
   "execution_count": 77,
   "id": "e43bd86b",
   "metadata": {},
   "outputs": [],
   "source": [
    "df = pd.read_csv(\"conn250k.csv\",names=[\"record ID\", \"duration\", \"src_bytes\", \"dst_bytes\"], header=None)"
   ]
  },
  {
   "cell_type": "code",
   "execution_count": 78,
   "id": "fe1e70ac",
   "metadata": {},
   "outputs": [
    {
     "data": {
      "text/html": [
       "<div>\n",
       "<style scoped>\n",
       "    .dataframe tbody tr th:only-of-type {\n",
       "        vertical-align: middle;\n",
       "    }\n",
       "\n",
       "    .dataframe tbody tr th {\n",
       "        vertical-align: top;\n",
       "    }\n",
       "\n",
       "    .dataframe thead th {\n",
       "        text-align: right;\n",
       "    }\n",
       "</style>\n",
       "<table border=\"1\" class=\"dataframe\">\n",
       "  <thead>\n",
       "    <tr style=\"text-align: right;\">\n",
       "      <th></th>\n",
       "      <th>record ID</th>\n",
       "      <th>duration</th>\n",
       "      <th>src_bytes</th>\n",
       "      <th>dst_bytes</th>\n",
       "    </tr>\n",
       "  </thead>\n",
       "  <tbody>\n",
       "    <tr>\n",
       "      <th>0</th>\n",
       "      <td>1</td>\n",
       "      <td>0</td>\n",
       "      <td>236</td>\n",
       "      <td>1228</td>\n",
       "    </tr>\n",
       "    <tr>\n",
       "      <th>1</th>\n",
       "      <td>2</td>\n",
       "      <td>0</td>\n",
       "      <td>239</td>\n",
       "      <td>486</td>\n",
       "    </tr>\n",
       "    <tr>\n",
       "      <th>2</th>\n",
       "      <td>3</td>\n",
       "      <td>0</td>\n",
       "      <td>234</td>\n",
       "      <td>1364</td>\n",
       "    </tr>\n",
       "    <tr>\n",
       "      <th>3</th>\n",
       "      <td>4</td>\n",
       "      <td>0</td>\n",
       "      <td>239</td>\n",
       "      <td>1295</td>\n",
       "    </tr>\n",
       "    <tr>\n",
       "      <th>4</th>\n",
       "      <td>5</td>\n",
       "      <td>0</td>\n",
       "      <td>181</td>\n",
       "      <td>5450</td>\n",
       "    </tr>\n",
       "    <tr>\n",
       "      <th>...</th>\n",
       "      <td>...</td>\n",
       "      <td>...</td>\n",
       "      <td>...</td>\n",
       "      <td>...</td>\n",
       "    </tr>\n",
       "    <tr>\n",
       "      <th>256665</th>\n",
       "      <td>256666</td>\n",
       "      <td>0</td>\n",
       "      <td>306</td>\n",
       "      <td>236</td>\n",
       "    </tr>\n",
       "    <tr>\n",
       "      <th>256666</th>\n",
       "      <td>256667</td>\n",
       "      <td>0</td>\n",
       "      <td>288</td>\n",
       "      <td>4017</td>\n",
       "    </tr>\n",
       "    <tr>\n",
       "      <th>256667</th>\n",
       "      <td>256668</td>\n",
       "      <td>0</td>\n",
       "      <td>289</td>\n",
       "      <td>1096</td>\n",
       "    </tr>\n",
       "    <tr>\n",
       "      <th>256668</th>\n",
       "      <td>256669</td>\n",
       "      <td>0</td>\n",
       "      <td>198</td>\n",
       "      <td>2169</td>\n",
       "    </tr>\n",
       "    <tr>\n",
       "      <th>256669</th>\n",
       "      <td>256670</td>\n",
       "      <td>0</td>\n",
       "      <td>212</td>\n",
       "      <td>2288</td>\n",
       "    </tr>\n",
       "  </tbody>\n",
       "</table>\n",
       "<p>256670 rows × 4 columns</p>\n",
       "</div>"
      ],
      "text/plain": [
       "        record ID  duration  src_bytes  dst_bytes\n",
       "0               1         0        236       1228\n",
       "1               2         0        239        486\n",
       "2               3         0        234       1364\n",
       "3               4         0        239       1295\n",
       "4               5         0        181       5450\n",
       "...           ...       ...        ...        ...\n",
       "256665     256666         0        306        236\n",
       "256666     256667         0        288       4017\n",
       "256667     256668         0        289       1096\n",
       "256668     256669         0        198       2169\n",
       "256669     256670         0        212       2288\n",
       "\n",
       "[256670 rows x 4 columns]"
      ]
     },
     "execution_count": 78,
     "metadata": {},
     "output_type": "execute_result"
    }
   ],
   "source": [
    "df"
   ]
  },
  {
   "cell_type": "markdown",
   "id": "739c2d80",
   "metadata": {},
   "source": [
    "### test how the 'src_bytes' data look"
   ]
  },
  {
   "cell_type": "code",
   "execution_count": 79,
   "id": "eae956c9",
   "metadata": {},
   "outputs": [
    {
     "name": "stderr",
     "output_type": "stream",
     "text": [
      "*c* argument looks like a single numeric RGB or RGBA sequence, which should be avoided as value-mapping will have precedence in case its length matches with *x* & *y*.  Please use the *color* keyword-argument or provide a 2D array with a single row if you intend to specify the same RGB or RGBA value for all points.\n"
     ]
    },
    {
     "data": {
      "image/png": "[encoded data removed]",
      "text/plain": [
       "<Figure size 432x288 with 1 Axes>"
      ]
     },
     "metadata": {},
     "output_type": "display_data"
    }
   ],
   "source": [
    "# we can find something interesting in the 'src_bytes'\n",
    "var = 'record ID'\n",
    "data = pd.concat([df['src_bytes'], df[var]], axis=1)\n",
    "data.plot.scatter(x=var, y='src_bytes', ylim=(0,60000)); "
   ]
  },
  {
   "cell_type": "code",
   "execution_count": 80,
   "id": "4610161b",
   "metadata": {},
   "outputs": [
    {
     "data": {
      "text/html": [
       "<div>\n",
       "<style scoped>\n",
       "    .dataframe tbody tr th:only-of-type {\n",
       "        vertical-align: middle;\n",
       "    }\n",
       "\n",
       "    .dataframe tbody tr th {\n",
       "        vertical-align: top;\n",
       "    }\n",
       "\n",
       "    .dataframe thead th {\n",
       "        text-align: right;\n",
       "    }\n",
       "</style>\n",
       "<table border=\"1\" class=\"dataframe\">\n",
       "  <thead>\n",
       "    <tr style=\"text-align: right;\">\n",
       "      <th></th>\n",
       "      <th>record ID</th>\n",
       "      <th>duration</th>\n",
       "      <th>src_bytes</th>\n",
       "      <th>dst_bytes</th>\n",
       "    </tr>\n",
       "  </thead>\n",
       "  <tbody>\n",
       "    <tr>\n",
       "      <th>140814</th>\n",
       "      <td>140815.0</td>\n",
       "      <td>0.0</td>\n",
       "      <td>54540.0</td>\n",
       "      <td>8314.0</td>\n",
       "    </tr>\n",
       "    <tr>\n",
       "      <th>140815</th>\n",
       "      <td>140816.0</td>\n",
       "      <td>0.0</td>\n",
       "      <td>54540.0</td>\n",
       "      <td>8314.0</td>\n",
       "    </tr>\n",
       "    <tr>\n",
       "      <th>140816</th>\n",
       "      <td>140817.0</td>\n",
       "      <td>0.0</td>\n",
       "      <td>54540.0</td>\n",
       "      <td>8314.0</td>\n",
       "    </tr>\n",
       "    <tr>\n",
       "      <th>140817</th>\n",
       "      <td>140818.0</td>\n",
       "      <td>0.0</td>\n",
       "      <td>54540.0</td>\n",
       "      <td>8314.0</td>\n",
       "    </tr>\n",
       "    <tr>\n",
       "      <th>140818</th>\n",
       "      <td>140819.0</td>\n",
       "      <td>0.0</td>\n",
       "      <td>54540.0</td>\n",
       "      <td>8314.0</td>\n",
       "    </tr>\n",
       "    <tr>\n",
       "      <th>...</th>\n",
       "      <td>...</td>\n",
       "      <td>...</td>\n",
       "      <td>...</td>\n",
       "      <td>...</td>\n",
       "    </tr>\n",
       "    <tr>\n",
       "      <th>232764</th>\n",
       "      <td>232765.0</td>\n",
       "      <td>0.0</td>\n",
       "      <td>54540.0</td>\n",
       "      <td>8314.0</td>\n",
       "    </tr>\n",
       "    <tr>\n",
       "      <th>232765</th>\n",
       "      <td>232766.0</td>\n",
       "      <td>0.0</td>\n",
       "      <td>54540.0</td>\n",
       "      <td>8314.0</td>\n",
       "    </tr>\n",
       "    <tr>\n",
       "      <th>232766</th>\n",
       "      <td>232767.0</td>\n",
       "      <td>0.0</td>\n",
       "      <td>54540.0</td>\n",
       "      <td>8314.0</td>\n",
       "    </tr>\n",
       "    <tr>\n",
       "      <th>232767</th>\n",
       "      <td>232768.0</td>\n",
       "      <td>0.0</td>\n",
       "      <td>54540.0</td>\n",
       "      <td>8314.0</td>\n",
       "    </tr>\n",
       "    <tr>\n",
       "      <th>232768</th>\n",
       "      <td>232769.0</td>\n",
       "      <td>0.0</td>\n",
       "      <td>54540.0</td>\n",
       "      <td>8314.0</td>\n",
       "    </tr>\n",
       "  </tbody>\n",
       "</table>\n",
       "<p>1015 rows × 4 columns</p>\n",
       "</div>"
      ],
      "text/plain": [
       "        record ID  duration  src_bytes  dst_bytes\n",
       "140814   140815.0       0.0    54540.0     8314.0\n",
       "140815   140816.0       0.0    54540.0     8314.0\n",
       "140816   140817.0       0.0    54540.0     8314.0\n",
       "140817   140818.0       0.0    54540.0     8314.0\n",
       "140818   140819.0       0.0    54540.0     8314.0\n",
       "...           ...       ...        ...        ...\n",
       "232764   232765.0       0.0    54540.0     8314.0\n",
       "232765   232766.0       0.0    54540.0     8314.0\n",
       "232766   232767.0       0.0    54540.0     8314.0\n",
       "232767   232768.0       0.0    54540.0     8314.0\n",
       "232768   232769.0       0.0    54540.0     8314.0\n",
       "\n",
       "[1015 rows x 4 columns]"
      ]
     },
     "execution_count": 80,
     "metadata": {},
     "output_type": "execute_result"
    }
   ],
   "source": [
    "# high 'src_bytes' when 'duration' is 0\n",
    "df.where(df['src_bytes'] > 20000).dropna()"
   ]
  },
  {
   "cell_type": "markdown",
   "id": "ead8f901",
   "metadata": {},
   "source": [
    "### test how the 'dst_bytes' data look "
   ]
  },
  {
   "cell_type": "code",
   "execution_count": 81,
   "id": "699905a7",
   "metadata": {},
   "outputs": [
    {
     "name": "stderr",
     "output_type": "stream",
     "text": [
      "*c* argument looks like a single numeric RGB or RGBA sequence, which should be avoided as value-mapping will have precedence in case its length matches with *x* & *y*.  Please use the *color* keyword-argument or provide a 2D array with a single row if you intend to specify the same RGB or RGBA value for all points.\n"
     ]
    },
    {
     "data": {
      "image/png": "[encoded data removed]",
      "text/plain": [
       "<Figure size 432x288 with 1 Axes>"
      ]
     },
     "metadata": {},
     "output_type": "display_data"
    }
   ],
   "source": [
    "# we can't learn nothing from 'dst_bytes'\n",
    "var = 'record ID'\n",
    "data = pd.concat([df['dst_bytes'], df[var]], axis=1)\n",
    "data.plot.scatter(x=var, y='dst_bytes', ylim=(0,200000)); "
   ]
  },
  {
   "cell_type": "markdown",
   "id": "94d9d53a",
   "metadata": {},
   "source": [
    "### test the relation between 'src_bytes' and 'dst_bytes' "
   ]
  },
  {
   "cell_type": "code",
   "execution_count": 82,
   "id": "2d7bb5e8",
   "metadata": {},
   "outputs": [
    {
     "name": "stderr",
     "output_type": "stream",
     "text": [
      "*c* argument looks like a single numeric RGB or RGBA sequence, which should be avoided as value-mapping will have precedence in case its length matches with *x* & *y*.  Please use the *color* keyword-argument or provide a 2D array with a single row if you intend to specify the same RGB or RGBA value for all points.\n"
     ]
    },
    {
     "data": {
      "image/png": "[encoded data removed]",
      "text/plain": [
       "<Figure size 432x288 with 1 Axes>"
      ]
     },
     "metadata": {},
     "output_type": "display_data"
    }
   ],
   "source": [
    "# x = 'dst_bytes'\n",
    "# y = 'src_bytes'\n",
    "var = 'dst_bytes'\n",
    "data = pd.concat([df['src_bytes'], df[var]], axis=1)\n",
    "data.plot.scatter(x=var, y='src_bytes', ylim=(0,60000)); "
   ]
  },
  {
   "cell_type": "code",
   "execution_count": 83,
   "id": "6bb9545c",
   "metadata": {},
   "outputs": [
    {
     "name": "stderr",
     "output_type": "stream",
     "text": [
      "*c* argument looks like a single numeric RGB or RGBA sequence, which should be avoided as value-mapping will have precedence in case its length matches with *x* & *y*.  Please use the *color* keyword-argument or provide a 2D array with a single row if you intend to specify the same RGB or RGBA value for all points.\n"
     ]
    },
    {
     "data": {
      "image/png": "[encoded data removed]",
      "text/plain": [
       "<Figure size 432x288 with 1 Axes>"
      ]
     },
     "metadata": {},
     "output_type": "display_data"
    }
   ],
   "source": [
    "# x = 'src_bytes'\n",
    "# y = 'dst_bytes'\n",
    "var = 'src_bytes'\n",
    "data = pd.concat([df['dst_bytes'], df[var]], axis=1)\n",
    "data.plot.scatter(x=var, y='dst_bytes', ylim=(0,800000)); "
   ]
  },
  {
   "cell_type": "markdown",
   "id": "35693c9d",
   "metadata": {},
   "source": [
    "### test the relation between 'src_bytes' and 'duration' "
   ]
  },
  {
   "cell_type": "code",
   "execution_count": 84,
   "id": "995e6e68",
   "metadata": {},
   "outputs": [
    {
     "name": "stderr",
     "output_type": "stream",
     "text": [
      "*c* argument looks like a single numeric RGB or RGBA sequence, which should be avoided as value-mapping will have precedence in case its length matches with *x* & *y*.  Please use the *color* keyword-argument or provide a 2D array with a single row if you intend to specify the same RGB or RGBA value for all points.\n"
     ]
    },
    {
     "data": {
      "image/png": "[encoded data removed]",
      "text/plain": [
       "<Figure size 432x288 with 1 Axes>"
      ]
     },
     "metadata": {},
     "output_type": "display_data"
    }
   ],
   "source": [
    "# when the 'duration' is 0 there is anomaly in 'src_bytes' as we discovered before\n",
    "var = 'duration'\n",
    "data = pd.concat([df['src_bytes'], df[var]], axis=1)\n",
    "data.plot.scatter(x=var, y='src_bytes', ylim=(0,60000)); "
   ]
  },
  {
   "cell_type": "markdown",
   "id": "917324dd",
   "metadata": {},
   "source": [
    "## Selecting the features "
   ]
  },
  {
   "cell_type": "code",
   "execution_count": 85,
   "id": "cde3f9ed",
   "metadata": {},
   "outputs": [],
   "source": [
    "# we will use 'duration' and 'src_bytes' as our features\n",
    "\n",
    "x = df.iloc[:,[1,2]] # 1t for rows and second for columns\n"
   ]
  },
  {
   "cell_type": "code",
   "execution_count": 86,
   "id": "4156b958",
   "metadata": {},
   "outputs": [
    {
     "data": {
      "text/html": [
       "<div>\n",
       "<style scoped>\n",
       "    .dataframe tbody tr th:only-of-type {\n",
       "        vertical-align: middle;\n",
       "    }\n",
       "\n",
       "    .dataframe tbody tr th {\n",
       "        vertical-align: top;\n",
       "    }\n",
       "\n",
       "    .dataframe thead th {\n",
       "        text-align: right;\n",
       "    }\n",
       "</style>\n",
       "<table border=\"1\" class=\"dataframe\">\n",
       "  <thead>\n",
       "    <tr style=\"text-align: right;\">\n",
       "      <th></th>\n",
       "      <th>duration</th>\n",
       "      <th>src_bytes</th>\n",
       "    </tr>\n",
       "  </thead>\n",
       "  <tbody>\n",
       "    <tr>\n",
       "      <th>0</th>\n",
       "      <td>0</td>\n",
       "      <td>236</td>\n",
       "    </tr>\n",
       "    <tr>\n",
       "      <th>1</th>\n",
       "      <td>0</td>\n",
       "      <td>239</td>\n",
       "    </tr>\n",
       "    <tr>\n",
       "      <th>2</th>\n",
       "      <td>0</td>\n",
       "      <td>234</td>\n",
       "    </tr>\n",
       "    <tr>\n",
       "      <th>3</th>\n",
       "      <td>0</td>\n",
       "      <td>239</td>\n",
       "    </tr>\n",
       "    <tr>\n",
       "      <th>4</th>\n",
       "      <td>0</td>\n",
       "      <td>181</td>\n",
       "    </tr>\n",
       "    <tr>\n",
       "      <th>...</th>\n",
       "      <td>...</td>\n",
       "      <td>...</td>\n",
       "    </tr>\n",
       "    <tr>\n",
       "      <th>256665</th>\n",
       "      <td>0</td>\n",
       "      <td>306</td>\n",
       "    </tr>\n",
       "    <tr>\n",
       "      <th>256666</th>\n",
       "      <td>0</td>\n",
       "      <td>288</td>\n",
       "    </tr>\n",
       "    <tr>\n",
       "      <th>256667</th>\n",
       "      <td>0</td>\n",
       "      <td>289</td>\n",
       "    </tr>\n",
       "    <tr>\n",
       "      <th>256668</th>\n",
       "      <td>0</td>\n",
       "      <td>198</td>\n",
       "    </tr>\n",
       "    <tr>\n",
       "      <th>256669</th>\n",
       "      <td>0</td>\n",
       "      <td>212</td>\n",
       "    </tr>\n",
       "  </tbody>\n",
       "</table>\n",
       "<p>256670 rows × 2 columns</p>\n",
       "</div>"
      ],
      "text/plain": [
       "        duration  src_bytes\n",
       "0              0        236\n",
       "1              0        239\n",
       "2              0        234\n",
       "3              0        239\n",
       "4              0        181\n",
       "...          ...        ...\n",
       "256665         0        306\n",
       "256666         0        288\n",
       "256667         0        289\n",
       "256668         0        198\n",
       "256669         0        212\n",
       "\n",
       "[256670 rows x 2 columns]"
      ]
     },
     "execution_count": 86,
     "metadata": {},
     "output_type": "execute_result"
    }
   ],
   "source": [
    "x\n"
   ]
  },
  {
   "cell_type": "markdown",
   "id": "932b02af",
   "metadata": {},
   "source": [
    "## Clustering using K means algorithm"
   ]
  },
  {
   "cell_type": "code",
   "execution_count": 87,
   "id": "33fe9deb",
   "metadata": {},
   "outputs": [
    {
     "data": {
      "text/plain": [
       "KMeans(n_clusters=2)"
      ]
     },
     "execution_count": 87,
     "metadata": {},
     "output_type": "execute_result"
    }
   ],
   "source": [
    "from sklearn.cluster import KMeans\n",
    "# we want 2 groups: outlier/anomaly \n",
    "kmeans = KMeans(2)\n",
    "kmeans.fit(x)"
   ]
  },
  {
   "cell_type": "markdown",
   "id": "8c1ce54e",
   "metadata": {},
   "source": [
    "### Clustering Results "
   ]
  },
  {
   "cell_type": "code",
   "execution_count": 88,
   "id": "d6dfd90c",
   "metadata": {},
   "outputs": [
    {
     "data": {
      "text/plain": [
       "array([0, 0, 0, ..., 0, 0, 0])"
      ]
     },
     "execution_count": 88,
     "metadata": {},
     "output_type": "execute_result"
    }
   ],
   "source": [
    "identified_clusters = kmeans.fit_predict(x)\n",
    "identified_clusters"
   ]
  },
  {
   "cell_type": "code",
   "execution_count": 89,
   "id": "f884394b",
   "metadata": {},
   "outputs": [
    {
     "data": {
      "text/plain": [
       "<matplotlib.collections.PathCollection at 0x20499622fd0>"
      ]
     },
     "execution_count": 89,
     "metadata": {},
     "output_type": "execute_result"
    },
    {
     "data": {
      "image/png": "[encoded data removed]",
      "text/plain": [
       "<Figure size 432x288 with 1 Axes>"
      ]
     },
     "metadata": {},
     "output_type": "display_data"
    }
   ],
   "source": [
    "data_with_clusters = df.copy()\n",
    "\n",
    "data_with_clusters['Clusters'] = identified_clusters \n",
    "plt.scatter(data_with_clusters['duration'],data_with_clusters['src_bytes'],c=data_with_clusters['Clusters'],cmap='rainbow')"
   ]
  },
  {
   "cell_type": "markdown",
   "id": "fa1b0d69",
   "metadata": {},
   "source": [
    "### create data frame of our prediction "
   ]
  },
  {
   "cell_type": "code",
   "execution_count": 90,
   "id": "cba2b84b",
   "metadata": {},
   "outputs": [],
   "source": [
    "prediction = pd.DataFrame()\n",
    "prediction['prediction'] = identified_clusters.tolist()\n",
    "# prediction = identified_clusters.tolist()"
   ]
  },
  {
   "cell_type": "code",
   "execution_count": 91,
   "id": "20595cc3",
   "metadata": {},
   "outputs": [
    {
     "data": {
      "text/html": [
       "<div>\n",
       "<style scoped>\n",
       "    .dataframe tbody tr th:only-of-type {\n",
       "        vertical-align: middle;\n",
       "    }\n",
       "\n",
       "    .dataframe tbody tr th {\n",
       "        vertical-align: top;\n",
       "    }\n",
       "\n",
       "    .dataframe thead th {\n",
       "        text-align: right;\n",
       "    }\n",
       "</style>\n",
       "<table border=\"1\" class=\"dataframe\">\n",
       "  <thead>\n",
       "    <tr style=\"text-align: right;\">\n",
       "      <th></th>\n",
       "      <th>prediction</th>\n",
       "    </tr>\n",
       "  </thead>\n",
       "  <tbody>\n",
       "    <tr>\n",
       "      <th>0</th>\n",
       "      <td>0</td>\n",
       "    </tr>\n",
       "    <tr>\n",
       "      <th>1</th>\n",
       "      <td>0</td>\n",
       "    </tr>\n",
       "    <tr>\n",
       "      <th>2</th>\n",
       "      <td>0</td>\n",
       "    </tr>\n",
       "    <tr>\n",
       "      <th>3</th>\n",
       "      <td>0</td>\n",
       "    </tr>\n",
       "    <tr>\n",
       "      <th>4</th>\n",
       "      <td>0</td>\n",
       "    </tr>\n",
       "    <tr>\n",
       "      <th>...</th>\n",
       "      <td>...</td>\n",
       "    </tr>\n",
       "    <tr>\n",
       "      <th>256665</th>\n",
       "      <td>0</td>\n",
       "    </tr>\n",
       "    <tr>\n",
       "      <th>256666</th>\n",
       "      <td>0</td>\n",
       "    </tr>\n",
       "    <tr>\n",
       "      <th>256667</th>\n",
       "      <td>0</td>\n",
       "    </tr>\n",
       "    <tr>\n",
       "      <th>256668</th>\n",
       "      <td>0</td>\n",
       "    </tr>\n",
       "    <tr>\n",
       "      <th>256669</th>\n",
       "      <td>0</td>\n",
       "    </tr>\n",
       "  </tbody>\n",
       "</table>\n",
       "<p>256670 rows × 1 columns</p>\n",
       "</div>"
      ],
      "text/plain": [
       "        prediction\n",
       "0                0\n",
       "1                0\n",
       "2                0\n",
       "3                0\n",
       "4                0\n",
       "...            ...\n",
       "256665           0\n",
       "256666           0\n",
       "256667           0\n",
       "256668           0\n",
       "256669           0\n",
       "\n",
       "[256670 rows x 1 columns]"
      ]
     },
     "execution_count": 91,
     "metadata": {},
     "output_type": "execute_result"
    }
   ],
   "source": [
    "prediction"
   ]
  },
  {
   "cell_type": "code",
   "execution_count": 92,
   "id": "96c99bd7",
   "metadata": {},
   "outputs": [
    {
     "data": {
      "text/html": [
       "<div>\n",
       "<style scoped>\n",
       "    .dataframe tbody tr th:only-of-type {\n",
       "        vertical-align: middle;\n",
       "    }\n",
       "\n",
       "    .dataframe tbody tr th {\n",
       "        vertical-align: top;\n",
       "    }\n",
       "\n",
       "    .dataframe thead th {\n",
       "        text-align: right;\n",
       "    }\n",
       "</style>\n",
       "<table border=\"1\" class=\"dataframe\">\n",
       "  <thead>\n",
       "    <tr style=\"text-align: right;\">\n",
       "      <th></th>\n",
       "      <th>prediction</th>\n",
       "    </tr>\n",
       "  </thead>\n",
       "  <tbody>\n",
       "    <tr>\n",
       "      <th>140814</th>\n",
       "      <td>1.0</td>\n",
       "    </tr>\n",
       "    <tr>\n",
       "      <th>140815</th>\n",
       "      <td>1.0</td>\n",
       "    </tr>\n",
       "    <tr>\n",
       "      <th>140816</th>\n",
       "      <td>1.0</td>\n",
       "    </tr>\n",
       "    <tr>\n",
       "      <th>140817</th>\n",
       "      <td>1.0</td>\n",
       "    </tr>\n",
       "    <tr>\n",
       "      <th>140818</th>\n",
       "      <td>1.0</td>\n",
       "    </tr>\n",
       "    <tr>\n",
       "      <th>...</th>\n",
       "      <td>...</td>\n",
       "    </tr>\n",
       "    <tr>\n",
       "      <th>232764</th>\n",
       "      <td>1.0</td>\n",
       "    </tr>\n",
       "    <tr>\n",
       "      <th>232765</th>\n",
       "      <td>1.0</td>\n",
       "    </tr>\n",
       "    <tr>\n",
       "      <th>232766</th>\n",
       "      <td>1.0</td>\n",
       "    </tr>\n",
       "    <tr>\n",
       "      <th>232767</th>\n",
       "      <td>1.0</td>\n",
       "    </tr>\n",
       "    <tr>\n",
       "      <th>232768</th>\n",
       "      <td>1.0</td>\n",
       "    </tr>\n",
       "  </tbody>\n",
       "</table>\n",
       "<p>1013 rows × 1 columns</p>\n",
       "</div>"
      ],
      "text/plain": [
       "        prediction\n",
       "140814         1.0\n",
       "140815         1.0\n",
       "140816         1.0\n",
       "140817         1.0\n",
       "140818         1.0\n",
       "...            ...\n",
       "232764         1.0\n",
       "232765         1.0\n",
       "232766         1.0\n",
       "232767         1.0\n",
       "232768         1.0\n",
       "\n",
       "[1013 rows x 1 columns]"
      ]
     },
     "execution_count": 92,
     "metadata": {},
     "output_type": "execute_result"
    }
   ],
   "source": [
    "# check were our model predict anomaly\n",
    "prediction.where(prediction['prediction'] > 0).dropna()"
   ]
  },
  {
   "cell_type": "code",
   "execution_count": 93,
   "id": "b44678cc",
   "metadata": {},
   "outputs": [],
   "source": [
    "# write the our prediction data frame to csv file\n",
    "prediction.to_csv('predict.csv', sep='\\t')"
   ]
  },
  {
   "cell_type": "code",
   "execution_count": 94,
   "id": "f2f8ac22",
   "metadata": {},
   "outputs": [
    {
     "data": {
      "text/html": [
       "<div>\n",
       "<style scoped>\n",
       "    .dataframe tbody tr th:only-of-type {\n",
       "        vertical-align: middle;\n",
       "    }\n",
       "\n",
       "    .dataframe tbody tr th {\n",
       "        vertical-align: top;\n",
       "    }\n",
       "\n",
       "    .dataframe thead th {\n",
       "        text-align: right;\n",
       "    }\n",
       "</style>\n",
       "<table border=\"1\" class=\"dataframe\">\n",
       "  <thead>\n",
       "    <tr style=\"text-align: right;\">\n",
       "      <th></th>\n",
       "      <th>label</th>\n",
       "    </tr>\n",
       "  </thead>\n",
       "  <tbody>\n",
       "    <tr>\n",
       "      <th>1</th>\n",
       "      <td>0</td>\n",
       "    </tr>\n",
       "    <tr>\n",
       "      <th>2</th>\n",
       "      <td>0</td>\n",
       "    </tr>\n",
       "    <tr>\n",
       "      <th>3</th>\n",
       "      <td>0</td>\n",
       "    </tr>\n",
       "    <tr>\n",
       "      <th>4</th>\n",
       "      <td>0</td>\n",
       "    </tr>\n",
       "    <tr>\n",
       "      <th>5</th>\n",
       "      <td>0</td>\n",
       "    </tr>\n",
       "    <tr>\n",
       "      <th>...</th>\n",
       "      <td>...</td>\n",
       "    </tr>\n",
       "    <tr>\n",
       "      <th>256666</th>\n",
       "      <td>0</td>\n",
       "    </tr>\n",
       "    <tr>\n",
       "      <th>256667</th>\n",
       "      <td>0</td>\n",
       "    </tr>\n",
       "    <tr>\n",
       "      <th>256668</th>\n",
       "      <td>0</td>\n",
       "    </tr>\n",
       "    <tr>\n",
       "      <th>256669</th>\n",
       "      <td>0</td>\n",
       "    </tr>\n",
       "    <tr>\n",
       "      <th>256670</th>\n",
       "      <td>0</td>\n",
       "    </tr>\n",
       "  </tbody>\n",
       "</table>\n",
       "<p>256670 rows × 1 columns</p>\n",
       "</div>"
      ],
      "text/plain": [
       "        label\n",
       "1           0\n",
       "2           0\n",
       "3           0\n",
       "4           0\n",
       "5           0\n",
       "...       ...\n",
       "256666      0\n",
       "256667      0\n",
       "256668      0\n",
       "256669      0\n",
       "256670      0\n",
       "\n",
       "[256670 rows x 1 columns]"
      ]
     },
     "execution_count": 94,
     "metadata": {},
     "output_type": "execute_result"
    }
   ],
   "source": [
    "# read the real labels from csv file\n",
    "\n",
    "labels = [0,1]   # our labels are 0 and 1\n",
    "\n",
    "real_labels = pd.read_csv(\"conn250k_anomaly.csv\",names=[\"label\"], header=None)\n",
    "real_labels"
   ]
  },
  {
   "cell_type": "code",
   "execution_count": 95,
   "id": "8dd7f82a",
   "metadata": {},
   "outputs": [
    {
     "data": {
      "text/plain": [
       "array([[255647,      1],\n",
       "       [    10,   1012]], dtype=int64)"
      ]
     },
     "execution_count": 95,
     "metadata": {},
     "output_type": "execute_result"
    }
   ],
   "source": [
    "# Compute confusion matrix\n",
    "\n",
    "from sklearn.metrics import confusion_matrix\n",
    "cm = confusion_matrix(real_labels, prediction, labels=labels)\n",
    "cm"
   ]
  },
  {
   "cell_type": "code",
   "execution_count": 96,
   "id": "afc115ea",
   "metadata": {},
   "outputs": [
    {
     "data": {
      "image/png": "[encoded data removed]",
      "text/plain": [
       "<Figure size 432x288 with 2 Axes>"
      ]
     },
     "metadata": {},
     "output_type": "display_data"
    }
   ],
   "source": [
    "ax = sns.heatmap(cm, annot=True, fmt=\"d\", cmap=\"Blues\")"
   ]
  },
  {
   "cell_type": "code",
   "execution_count": 97,
   "id": "b27d93a4",
   "metadata": {},
   "outputs": [
    {
     "data": {
      "text/plain": [
       "0.9999571434137219"
      ]
     },
     "execution_count": 97,
     "metadata": {},
     "output_type": "execute_result"
    }
   ],
   "source": [
    "# method to compute accuracy from confusion matrix\n",
    "np.trace(cm) / np.sum(cm)\n"
   ]
  },
  {
   "cell_type": "code",
   "execution_count": 98,
   "id": "2da4e031",
   "metadata": {},
   "outputs": [
    {
     "data": {
      "text/plain": [
       "0.9902152641878669"
      ]
     },
     "execution_count": 98,
     "metadata": {},
     "output_type": "execute_result"
    }
   ],
   "source": [
    "# compute accuracy only of anomaly data\n",
    "cm[0][0] = 0\n",
    "cm[0][1] = 0\n",
    "np.trace(cm) / np.sum(cm)\n"
   ]
  },
  {
   "cell_type": "markdown",
   "id": "c3b2353b",
   "metadata": {},
   "source": [
    "## Summary of data exploration and learning "
   ]
  },
  {
   "cell_type": "markdown",
   "id": "df07a753",
   "metadata": {},
   "source": [
    "1. Data exploration: \n",
    "\n",
    "   the first step was to reaserch how each data feature look,\n",
    "   and to find anomaly.\n",
    "   after finding anomaly in 'src_bytes' (high number of bytes in spesific range)\n",
    "   we try to find if there is another feature which have some effect on the high\n",
    "   number of 'src_bytes'.\n",
    "   and it seems that there is high 'src_bytes' when the 'duration' is 0,\n",
    "   that is the reason we choose to use these 2 features ('src_bytes' and 'duration')\n",
    "   for the learning process.\n",
    "   \n",
    "   \n",
    "2. Learning algorithms:\n",
    "\n",
    "   unsuprevised learning algorithms are suitable for anomaly detection,\n",
    "   because there is not label data to use in the learning process.\n",
    "   in our case we use 'clustering algorithm' K-Means.\n",
    "   \n",
    "   \n",
    "3. Solution report:\n",
    "\n",
    "   The first thing we had to do is choose the features from the data,\n",
    "   after the data exploration stage we decided to use 'src_bytes' and 'duration'\n",
    "   as our features.\n",
    "   we choose the clustering algorithm K-Means, after exploring on the internet\n",
    "   we found that K-Means can give good results in unsuprevised learning and \n",
    "   in anomaly detection task.\n",
    "   in our case we have 2 clusters because we want to find from the data what is normal\n",
    "   and what is anomaly.\n",
    "   \n",
    "   Results:\n",
    "   \n",
    "   we can see in the Confusion matrix that 1012 anomaly data classify correct\n",
    "   and only 10 anomaly data classify as normal data.\n",
    "   "
   ]
  },
  {
   "cell_type": "markdown",
   "id": "1b76674a",
   "metadata": {},
   "source": [
    "## Create final csv file (original data, predicted label, real label) "
   ]
  },
  {
   "cell_type": "code",
   "execution_count": 99,
   "id": "774d57cd",
   "metadata": {},
   "outputs": [
    {
     "data": {
      "text/html": [
       "<div>\n",
       "<style scoped>\n",
       "    .dataframe tbody tr th:only-of-type {\n",
       "        vertical-align: middle;\n",
       "    }\n",
       "\n",
       "    .dataframe tbody tr th {\n",
       "        vertical-align: top;\n",
       "    }\n",
       "\n",
       "    .dataframe thead th {\n",
       "        text-align: right;\n",
       "    }\n",
       "</style>\n",
       "<table border=\"1\" class=\"dataframe\">\n",
       "  <thead>\n",
       "    <tr style=\"text-align: right;\">\n",
       "      <th></th>\n",
       "      <th>duration</th>\n",
       "      <th>src_bytes</th>\n",
       "      <th>dst_bytes</th>\n",
       "      <th>prediction</th>\n",
       "      <th>label</th>\n",
       "    </tr>\n",
       "    <tr>\n",
       "      <th>record ID</th>\n",
       "      <th></th>\n",
       "      <th></th>\n",
       "      <th></th>\n",
       "      <th></th>\n",
       "      <th></th>\n",
       "    </tr>\n",
       "  </thead>\n",
       "  <tbody>\n",
       "    <tr>\n",
       "      <th>1</th>\n",
       "      <td>0</td>\n",
       "      <td>236</td>\n",
       "      <td>1228</td>\n",
       "      <td>0</td>\n",
       "      <td>0.0</td>\n",
       "    </tr>\n",
       "    <tr>\n",
       "      <th>2</th>\n",
       "      <td>0</td>\n",
       "      <td>239</td>\n",
       "      <td>486</td>\n",
       "      <td>0</td>\n",
       "      <td>0.0</td>\n",
       "    </tr>\n",
       "    <tr>\n",
       "      <th>3</th>\n",
       "      <td>0</td>\n",
       "      <td>234</td>\n",
       "      <td>1364</td>\n",
       "      <td>0</td>\n",
       "      <td>0.0</td>\n",
       "    </tr>\n",
       "    <tr>\n",
       "      <th>4</th>\n",
       "      <td>0</td>\n",
       "      <td>239</td>\n",
       "      <td>1295</td>\n",
       "      <td>0</td>\n",
       "      <td>0.0</td>\n",
       "    </tr>\n",
       "    <tr>\n",
       "      <th>5</th>\n",
       "      <td>0</td>\n",
       "      <td>181</td>\n",
       "      <td>5450</td>\n",
       "      <td>0</td>\n",
       "      <td>0.0</td>\n",
       "    </tr>\n",
       "    <tr>\n",
       "      <th>...</th>\n",
       "      <td>...</td>\n",
       "      <td>...</td>\n",
       "      <td>...</td>\n",
       "      <td>...</td>\n",
       "      <td>...</td>\n",
       "    </tr>\n",
       "    <tr>\n",
       "      <th>256666</th>\n",
       "      <td>0</td>\n",
       "      <td>306</td>\n",
       "      <td>236</td>\n",
       "      <td>0</td>\n",
       "      <td>0.0</td>\n",
       "    </tr>\n",
       "    <tr>\n",
       "      <th>256667</th>\n",
       "      <td>0</td>\n",
       "      <td>288</td>\n",
       "      <td>4017</td>\n",
       "      <td>0</td>\n",
       "      <td>0.0</td>\n",
       "    </tr>\n",
       "    <tr>\n",
       "      <th>256668</th>\n",
       "      <td>0</td>\n",
       "      <td>289</td>\n",
       "      <td>1096</td>\n",
       "      <td>0</td>\n",
       "      <td>0.0</td>\n",
       "    </tr>\n",
       "    <tr>\n",
       "      <th>256669</th>\n",
       "      <td>0</td>\n",
       "      <td>198</td>\n",
       "      <td>2169</td>\n",
       "      <td>0</td>\n",
       "      <td>0.0</td>\n",
       "    </tr>\n",
       "    <tr>\n",
       "      <th>256670</th>\n",
       "      <td>0</td>\n",
       "      <td>212</td>\n",
       "      <td>2288</td>\n",
       "      <td>0</td>\n",
       "      <td>0.0</td>\n",
       "    </tr>\n",
       "  </tbody>\n",
       "</table>\n",
       "<p>256670 rows × 5 columns</p>\n",
       "</div>"
      ],
      "text/plain": [
       "           duration  src_bytes  dst_bytes  prediction  label\n",
       "record ID                                                   \n",
       "1                 0        236       1228           0    0.0\n",
       "2                 0        239        486           0    0.0\n",
       "3                 0        234       1364           0    0.0\n",
       "4                 0        239       1295           0    0.0\n",
       "5                 0        181       5450           0    0.0\n",
       "...             ...        ...        ...         ...    ...\n",
       "256666            0        306        236           0    0.0\n",
       "256667            0        288       4017           0    0.0\n",
       "256668            0        289       1096           0    0.0\n",
       "256669            0        198       2169           0    0.0\n",
       "256670            0        212       2288           0    0.0\n",
       "\n",
       "[256670 rows x 5 columns]"
      ]
     },
     "execution_count": 99,
     "metadata": {},
     "output_type": "execute_result"
    }
   ],
   "source": [
    "\n",
    "final_data = df.join(prediction)\n",
    "final_data = final_data.join(real_labels)\n",
    "\n",
    "final_data = final_data.fillna(0)\n",
    "final_data.set_index('record ID', inplace=True)\n",
    "\n",
    "final_data"
   ]
  },
  {
   "cell_type": "code",
   "execution_count": 100,
   "id": "ee638570",
   "metadata": {},
   "outputs": [],
   "source": [
    "# write the final data to csv file\n",
    "\n",
    "final_data.to_csv('final_data.csv')"
   ]
  },
  {
   "cell_type": "code",
   "execution_count": null,
   "id": "627ddd89",
   "metadata": {},
   "outputs": [],
   "source": []
  },
  {
   "cell_type": "code",
   "execution_count": null,
   "id": "b8b728b9",
   "metadata": {},
   "outputs": [],
   "source": []
  },
  {
   "cell_type": "code",
   "execution_count": null,
   "id": "78e80819",
   "metadata": {},
   "outputs": [],
   "source": []
  }
 ],
 "metadata": {
  "kernelspec": {
   "display_name": "Python 3",
   "language": "python",
   "name": "python3"
  },
  "language_info": {
   "codemirror_mode": {
    "name": "ipython",
    "version": 3
   },
   "file_extension": ".py",
   "mimetype": "text/x-python",
   "name": "python",
   "nbconvert_exporter": "python",
   "pygments_lexer": "ipython3",
   "version": "3.8.3"
  }
 },
 "nbformat": 4,
 "nbformat_minor": 5
}
