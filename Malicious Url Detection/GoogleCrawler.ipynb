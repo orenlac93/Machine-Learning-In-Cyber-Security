{
 "cells": [
  {
   "cell_type": "code",
   "execution_count": 1,
   "id": "eff804c2",
   "metadata": {},
   "outputs": [],
   "source": [
    "from selenium import webdriver\n",
    "from selenium.webdriver.common.keys import Keys\n",
    "import requests\n",
    "from bs4 import BeautifulSoup\n",
    "import threading\n",
    "import csv\n",
    "import random\n",
    "\"\"\" *TODO:* \n",
    "def getHTML(PATH = \"C:/Program Files (x86)/chromedriver.exe\"):\n",
    "    random_word = r.get_random_word()\n",
    "    random_word = \"test\"\n",
    "    driver = webdriver.Chrome(PATH)\n",
    "    driver.get(\"https://google.com/search?q=\"+random_word+'&hl=en')\n",
    "    htmltext = driver.page_source\n",
    "    driver.quit()\n",
    "    return htmltext\n",
    "\"\"\"\n",
    "def getURL(num_of_pages = 3, language = 'en'):\n",
    "    pages_to_scan = []\n",
    "    for i in range(num_of_pages):    \n",
    "        random_word = randomWordGenerator()\n",
    "        pages_to_scan.append(\"https://google.com/search?q=\"+random_word+'&hl='+language+'&start='+str(i*10))\n",
    "    #&start=0 -> page1 | 10 -> page2 ..\n",
    "    return pages_to_scan\n",
    "\n",
    "def scanNPages(lock,file,url):\n",
    "    reqs = requests.get(url)\n",
    "    soup = BeautifulSoup(reqs.text, 'html.parser')\n",
    "    urls = []\n",
    "    for link in soup.find_all('a'):\n",
    "        valid_url = str(link.get('href'))\n",
    "        valid_url = valid_url.replace('/url?q=','')\n",
    "        if(valid_url.startswith('https:/')):\n",
    "            urls.append(valid_url)    \n",
    "        \n",
    "        writeToCSV(urls,lock,file)\n",
    "        \n",
    "def writeToCSV(urls,lock,file):\n",
    "    lock.acquire()       \n",
    "    writer = csv.writer(file, delimiter=',')\n",
    "    for j in urls:\n",
    "        writer.writerow([j])\n",
    "    lock.release()\n",
    "    \n",
    "def scanPage(num_of_pages,lock,file):    \n",
    "    #TODO: scan the first $num_of_pages,\n",
    "    url_to_scan = getURL(num_of_pages,'en')\n",
    "    threads = []\n",
    "    for url in url_to_scan:\n",
    "       scanNPages(lock,file,url)\n",
    "           \n",
    "def printLists(urls):\n",
    "    for x in urls:\n",
    "        print(x)\n",
    "\n",
    "def randomWordGenerator(url = 'https://www.ef.com/wwen/english-resources/english-vocabulary/top-3000-words/'):\n",
    "    reqs = requests.get(url)\n",
    "    soup = BeautifulSoup(reqs.text, 'html.parser')\n",
    "    list_of_words = []\n",
    "    for word in soup.find_all('p'):\n",
    "        word = str(word)\n",
    "        word = word.split('<br/>')\n",
    "        list_of_words.append(word)\n",
    "    list_of_words = list_of_words[len(list_of_words)-1]\n",
    "    return random.choice(list_of_words)\n",
    "    \n",
    "   \n",
    "def startMission(num_of_threads = 5):\n",
    "    file = open('urls_file.csv', 'w')\n",
    "    threads = []\n",
    "    for i in range(num_of_threads):\n",
    "        thread = threading.Thread(target=scanPage,args=(3,threading.Lock(),file,))\n",
    "        threads.append(thread)\n",
    "        \n",
    "    for i in range(num_of_threads):\n",
    "        threads[i].start()\n",
    "    \n",
    "    for i in range(num_of_threads):\n",
    "        threads[i].join()\n",
    "\n",
    "    file.close()    \n",
    "    print(\"Done!\")"
   ]
  },
  {
   "cell_type": "code",
   "execution_count": 2,
   "id": "5740f0c1",
   "metadata": {},
   "outputs": [
    {
     "name": "stdout",
     "output_type": "stream",
     "text": [
      "Done!\n"
     ]
    }
   ],
   "source": [
    "startMission(10)"
   ]
  },
  {
   "cell_type": "code",
   "execution_count": null,
   "id": "575bf223",
   "metadata": {},
   "outputs": [],
   "source": [
    "\n",
    "  "
   ]
  },
  {
   "cell_type": "code",
   "execution_count": null,
   "id": "42cfec24",
   "metadata": {},
   "outputs": [],
   "source": [
    "\n"
   ]
  },
  {
   "cell_type": "code",
   "execution_count": null,
   "id": "d18ba77c",
   "metadata": {},
   "outputs": [],
   "source": []
  },
  {
   "cell_type": "code",
   "execution_count": null,
   "id": "3fe45848",
   "metadata": {},
   "outputs": [],
   "source": []
  }
 ],
 "metadata": {
  "kernelspec": {
   "display_name": "Python 3",
   "language": "python",
   "name": "python3"
  },
  "language_info": {
   "codemirror_mode": {
    "name": "ipython",
    "version": 3
   },
   "file_extension": ".py",
   "mimetype": "text/x-python",
   "name": "python",
   "nbconvert_exporter": "python",
   "pygments_lexer": "ipython3",
   "version": "3.8.8"
  }
 },
 "nbformat": 4,
 "nbformat_minor": 5
}
